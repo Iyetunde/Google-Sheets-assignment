{
  "nbformat": 4,
  "nbformat_minor": 0,
  "metadata": {
    "colab": {
      "provenance": [],
      "authorship_tag": "ABX9TyMTz19jsnXsY5HkKDVfySwd",
      "include_colab_link": true
    },
    "kernelspec": {
      "name": "python3",
      "display_name": "Python 3"
    },
    "language_info": {
      "name": "python"
    }
  },
  "cells": [
    {
      "cell_type": "markdown",
      "metadata": {
        "id": "view-in-github",
        "colab_type": "text"
      },
      "source": [
        "<a href=\"https://colab.research.google.com/github/Iyetunde/Google-Sheets-assignment/blob/main/Problem_solving_with_loops.ipynb\" target=\"_parent\"><img src=\"https://colab.research.google.com/assets/colab-badge.svg\" alt=\"Open In Colab\"/></a>"
      ]
    },
    {
      "cell_type": "code",
      "execution_count": 3,
      "metadata": {
        "colab": {
          "base_uri": "https://localhost:8080/"
        },
        "id": "PfzhpRQcjsHY",
        "outputId": "15242d19-db0e-4093-c950-817f5d0256aa"
      },
      "outputs": [
        {
          "output_type": "stream",
          "name": "stdout",
          "text": [
            "Total waste collected over the week: 2630 kg\n"
          ]
        }
      ],
      "source": [
        "total_waste_collected = 0\n",
        "weekly_collection = [340, 220, 455, 300, 385, 520, 410]\n",
        "for daily_collection in weekly_collection:\n",
        "    total_waste_collected += daily_collection\n",
        "print(f\"Total waste collected over the week: {total_waste_collected} kg\")"
      ]
    },
    {
      "cell_type": "code",
      "source": [
        "endangered_species = ['Tiger', 'Blue Whale', 'Mountain Gorilla']\n",
        "sightings = ['Deer', 'Tiger', 'Blue Whale', 'Mountain Gorilla', 'Elephant']\n",
        "for species in sightings:\n",
        "    if species in endangered_species:\n",
        "        print(f\"Endangered species spotted: {species}\")\n",
        "        break\n",
        "    else:\n",
        "        print(f\"No endangered species spotted: {species}\")"
      ],
      "metadata": {
        "colab": {
          "base_uri": "https://localhost:8080/"
        },
        "id": "6ubExAtGkito",
        "outputId": "71444e2a-90ae-4f77-caec-2b083e721597"
      },
      "execution_count": 5,
      "outputs": [
        {
          "output_type": "stream",
          "name": "stdout",
          "text": [
            "No endangered species spotted: Deer\n",
            "Endangered species spotted: Tiger\n"
          ]
        }
      ]
    },
    {
      "cell_type": "markdown",
      "source": [
        "Instructions: Rearrange the code to create a program that tracks sightings of endangered species over a month, stopping if a certain species is spotted."
      ],
      "metadata": {
        "id": "eK2jACk3krf6"
      }
    },
    {
      "cell_type": "markdown",
      "source": [
        "Instructions: Rearrange the code blocks to create a program that simulates the growth of a forest over years until it reaches a specified threshold area. The forest growth is compounded annually."
      ],
      "metadata": {
        "id": "W7aSYgwemmeU"
      }
    },
    {
      "cell_type": "code",
      "source": [
        "forest_area = 1000\n",
        "growth_rate = 1.05\n",
        "year = 0\n",
        "while forest_area < 1500:\n",
        "    print(f\"Forest area after {year} years: {forest_area:.2f} sq km\")\n",
        "    forest_area *= growth_rate\n",
        "    year += 1"
      ],
      "metadata": {
        "colab": {
          "base_uri": "https://localhost:8080/"
        },
        "id": "1e6b0sCgmo0F",
        "outputId": "b86c29f9-7a54-4443-ac23-256d8665f556"
      },
      "execution_count": 7,
      "outputs": [
        {
          "output_type": "stream",
          "name": "stdout",
          "text": [
            "Forest area after 0 years: 1000.00 sq km\n",
            "Forest area after 1 years: 1050.00 sq km\n",
            "Forest area after 2 years: 1102.50 sq km\n",
            "Forest area after 3 years: 1157.62 sq km\n",
            "Forest area after 4 years: 1215.51 sq km\n",
            "Forest area after 5 years: 1276.28 sq km\n",
            "Forest area after 6 years: 1340.10 sq km\n",
            "Forest area after 7 years: 1407.10 sq km\n",
            "Forest area after 8 years: 1477.46 sq km\n"
          ]
        }
      ]
    },
    {
      "cell_type": "markdown",
      "source": [
        "Instructions: Rearrange the code blocks to create a program that calculates the total amount of waste collected in an ocean cleanup campaign over a week. Each day's collection is stored in a list."
      ],
      "metadata": {
        "id": "nMuU3YjWj9w4"
      }
    }
  ]
}